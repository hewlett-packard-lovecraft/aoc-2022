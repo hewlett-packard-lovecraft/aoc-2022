{
 "cells": [
  {
   "cell_type": "markdown",
   "metadata": {},
   "source": [
    "# Day 8: Treetop Tree House\n"
   ]
  },
  {
   "cell_type": "code",
   "execution_count": 190,
   "metadata": {},
   "outputs": [],
   "source": [
    "from pathlib import Path\n",
    "\n",
    "\n",
    "def read_input():\n",
    "    input = []\n",
    "\n",
    "    with open(Path(\"./input.txt\"), encoding='utf-8', mode='r') as f:\n",
    "        input = [list(line.strip()) for line in f.readlines()]\n",
    "\n",
    "    input = [[int(el) for el in row] for row in input]\n",
    "\n",
    "    return input\n"
   ]
  },
  {
   "cell_type": "markdown",
   "metadata": {},
   "source": [
    "## Part 1\n",
    "\n",
    "The expedition comes across a peculiar patch of tall trees all planted carefully in a grid. The Elves explain that a previous expedition planted these trees as a reforestation effort. Now, they're curious if this would be a good location for a tree house.\n",
    "\n",
    "First, determine whether there is enough tree cover here to keep a tree house hidden. To do this, you need to count the number of trees that are visible from outside the grid when looking directly along a row or column.\n",
    "\n",
    "The Elves have already launched a quadcopter to generate a map with the height of each tree (your puzzle input). For example:\n",
    "\n",
    "```\n",
    "30373\n",
    "25512\n",
    "65332\n",
    "33549\n",
    "35390\n",
    "```\n",
    "\n",
    "Each tree is represented as a single digit whose value is its height, where 0 is the shortest and 9 is the tallest.\n",
    "\n",
    "A tree is visible if all of the other trees between it and an edge of the grid are shorter than it. Only consider trees in the same row or column; that is, only look up, down, left, or right from any given tree.\n",
    "\n",
    "All of the trees around the edge of the grid are visible - since they are already on the edge, there are no trees to block the view. In this example, that only leaves the interior nine trees to consider:\n",
    "\n",
    "    The top-left 5 is visible from the left and top. (It isn't visible from the right or bottom since other trees of height 5 are in the way.)\n",
    "    The top-middle 5 is visible from the top and right.\n",
    "    The top-right 1 is not visible from any direction; for it to be visible, there would need to only be trees of height 0 between it and an edge.\n",
    "    The left-middle 5 is visible, but only from the right.\n",
    "    The center 3 is not visible from any direction; for it to be visible, there would need to be only trees of at most height 2 between it and an edge.\n",
    "    The right-middle 3 is visible from the right.\n",
    "    In the bottom row, the middle 5 is visible, but the 3 and 4 are not.\n",
    "\n",
    "With 16 trees visible on the edge and another 5 visible in the interior, a total of 21 trees are visible in this arrangement.\n",
    "\n",
    "Consider your map; how many trees are visible from outside the grid?\n"
   ]
  },
  {
   "cell_type": "code",
   "execution_count": 191,
   "metadata": {},
   "outputs": [
    {
     "name": "stdout",
     "output_type": "stream",
     "text": [
      "1695\n"
     ]
    }
   ],
   "source": [
    "def visible(index, arr: list[int]):\n",
    "    return all((arr[index] - el) >= 1 for el in arr[:index]) or all((arr[index] - el) >= 1 for el in arr[index+1:])\n",
    "\n",
    "\n",
    "def neighbors(row: int, col: int, input: list[list[int]]):\n",
    "    return input[row], [input[r][col] for r in range(len(input))]\n",
    "\n",
    "\n",
    "def part_1(input: list[list[int]]):\n",
    "    counter = 0\n",
    "\n",
    "    for row in range(len(input)):\n",
    "        for col in range(len(input[row])):\n",
    "            horizontal, vertical = neighbors(row, col, input)\n",
    "\n",
    "            if visible(col, horizontal) or visible(row, vertical):\n",
    "                counter += 1\n",
    "\n",
    "    print(counter)\n",
    "\n",
    "\n",
    "part_1(read_input())\n"
   ]
  },
  {
   "cell_type": "markdown",
   "metadata": {},
   "source": [
    "## Part 2\n",
    "\n",
    "Content with the amount of tree cover available, the Elves just need to know the best spot to build their tree house: they would like to be able to see a lot of trees.\n",
    "\n",
    "To measure the viewing distance from a given tree, look up, down, left, and right from that tree; stop if you reach an edge or at the first tree that is the same height or taller than the tree under consideration. (If a tree is right on the edge, at least one of its viewing distances will be zero.)\n",
    "\n",
    "The Elves don't care about distant trees taller than those found by the rules above; the proposed tree house has large eaves to keep it dry, so they wouldn't be able to see higher than the tree house anyway.\n",
    "\n",
    "In the example above, consider the middle 5 in the second row:\n",
    "\n",
    "```\n",
    "30373\n",
    "25512\n",
    "65332\n",
    "33549\n",
    "35390\n",
    "```\n",
    "\n",
    "    Looking up, its view is not blocked; it can see 1 tree (of height 3).\n",
    "    Looking left, its view is blocked immediately; it can see only 1 tree (of height 5, right next to it).\n",
    "    Looking right, its view is not blocked; it can see 2 trees.\n",
    "    Looking down, its view is blocked eventually; it can see 2 trees (one of height 3, then the tree of height 5 that blocks its view).\n",
    "\n",
    "A tree's scenic score is found by multiplying together its viewing distance in each of the four directions. For this tree, this is 4 (found by multiplying 1 _ 1 _ 2 \\* 2).\n",
    "\n",
    "However, you can do even better: consider the tree of height 5 in the middle of the fourth row:\n",
    "\n",
    "```\n",
    "30373\n",
    "25512\n",
    "65332\n",
    "33549\n",
    "35390\n",
    "```\n",
    "\n",
    "    Looking up, its view is blocked at 2 trees (by another tree with a height of 5).\n",
    "    Looking left, its view is not blocked; it can see 2 trees.\n",
    "    Looking down, its view is also not blocked; it can see 1 tree.\n",
    "    Looking right, its view is blocked at 2 trees (by a massive tree of height 9).\n",
    "\n",
    "This tree's scenic score is `8` `(2 * 2 * 1 * 2)`; this is the ideal spot for the tree house.\n",
    "\n",
    "Consider each tree on your map. What is the highest scenic score possible for any tree?\n"
   ]
  },
  {
   "cell_type": "code",
   "execution_count": 192,
   "metadata": {},
   "outputs": [
    {
     "name": "stdout",
     "output_type": "stream",
     "text": [
      "287040\n"
     ]
    }
   ],
   "source": [
    "def visibility(index, arr: list[int]):\n",
    "    left = list(reversed(arr[:index]))\n",
    "    right = arr[index+1:]\n",
    "\n",
    "    l_counter = 0\n",
    "    r_counter = 0\n",
    "\n",
    "    for el in left:\n",
    "        if arr[index] - el >= 1:\n",
    "            l_counter += 1\n",
    "        else:\n",
    "            l_counter += 1\n",
    "            break\n",
    "\n",
    "    for el in right:\n",
    "        if arr[index] - el >= 1:\n",
    "            r_counter += 1\n",
    "        else:\n",
    "            r_counter += 1\n",
    "            break\n",
    "\n",
    "    return l_counter * r_counter\n",
    "\n",
    "\n",
    "def part_2(input: list[list[int]]):\n",
    "    max_scene_score = 0\n",
    "\n",
    "    for row in range(len(input)):\n",
    "        for col in range(len(input[row])):\n",
    "            horizontal, vertical = neighbors(row, col, input)\n",
    "\n",
    "            score = visibility(col, horizontal) * visibility(row, vertical)\n",
    "\n",
    "            if score > max_scene_score:\n",
    "                max_scene_score = score\n",
    "\n",
    "    print(max_scene_score)\n",
    "\n",
    "\n",
    "part_2(read_input())\n"
   ]
  }
 ],
 "metadata": {
  "kernelspec": {
   "display_name": "Python 3.11.0 64-bit",
   "language": "python",
   "name": "python3"
  },
  "language_info": {
   "codemirror_mode": {
    "name": "ipython",
    "version": 3
   },
   "file_extension": ".py",
   "mimetype": "text/x-python",
   "name": "python",
   "nbconvert_exporter": "python",
   "pygments_lexer": "ipython3",
   "version": "3.11.0"
  },
  "orig_nbformat": 4,
  "vscode": {
   "interpreter": {
    "hash": "e7370f93d1d0cde622a1f8e1c04877d8463912d04d973331ad4851f04de6915a"
   }
  }
 },
 "nbformat": 4,
 "nbformat_minor": 2
}
