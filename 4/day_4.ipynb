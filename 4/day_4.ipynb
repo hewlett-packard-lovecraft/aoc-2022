{
 "cells": [
  {
   "cell_type": "code",
   "execution_count": 92,
   "metadata": {},
   "outputs": [],
   "source": [
    "from pathlib import Path\n",
    "input = []\n",
    "\n",
    "with open(Path(\"./input.txt\"), encoding='utf-8', mode='r') as f:\n",
    "    input = [line.strip() for line in f.readlines()]\n"
   ]
  },
  {
   "cell_type": "markdown",
   "metadata": {},
   "source": []
  },
  {
   "cell_type": "code",
   "execution_count": 97,
   "metadata": {},
   "outputs": [
    {
     "name": "stdout",
     "output_type": "stream",
     "text": [
      "464\n"
     ]
    }
   ],
   "source": [
    "\n",
    "def part_1(input: list[str]):\n",
    "    duplicates = 0\n",
    "\n",
    "    for pair in input:\n",
    "        elf0, elf1 = [elf.split('-') for elf in pair.split(',')]\n",
    "        elf0_sect, elf1_sect = [set(range(int(elf0[0]), int(elf0[1]) + 1)), set(range(int(elf1[0]), int(elf1[1]) + 1))]\n",
    "        if elf0_sect.issubset(elf1_sect) or elf1_sect.issubset(elf0_sect):\n",
    "            duplicates += 1\n",
    "\n",
    "    print(duplicates)\n",
    "\n",
    "part_1(input)"
   ]
  },
  {
   "cell_type": "code",
   "execution_count": 99,
   "metadata": {},
   "outputs": [
    {
     "name": "stdout",
     "output_type": "stream",
     "text": [
      "770\n"
     ]
    }
   ],
   "source": [
    "\n",
    "def part_2(input: list[str]):\n",
    "    duplicates = 0\n",
    "\n",
    "    for pair in input:\n",
    "        elf0, elf1 = [elf.split('-') for elf in pair.split(',')]\n",
    "        elf0_sect, elf1_sect = [set(range(int(elf0[0]), int(elf0[1]) + 1)), set(range(int(elf1[0]), int(elf1[1]) + 1))]\n",
    "        if elf0_sect.intersection(elf1_sect) != set():\n",
    "            duplicates += 1\n",
    "\n",
    "    print(duplicates)\n",
    "\n",
    "part_2(input)"
   ]
  }
 ],
 "metadata": {
  "kernelspec": {
   "display_name": "Python 3.11.0 64-bit",
   "language": "python",
   "name": "python3"
  },
  "language_info": {
   "codemirror_mode": {
    "name": "ipython",
    "version": 3
   },
   "file_extension": ".py",
   "mimetype": "text/x-python",
   "name": "python",
   "nbconvert_exporter": "python",
   "pygments_lexer": "ipython3",
   "version": "3.11.0"
  },
  "orig_nbformat": 4,
  "vscode": {
   "interpreter": {
    "hash": "e7370f93d1d0cde622a1f8e1c04877d8463912d04d973331ad4851f04de6915a"
   }
  }
 },
 "nbformat": 4,
 "nbformat_minor": 2
}
