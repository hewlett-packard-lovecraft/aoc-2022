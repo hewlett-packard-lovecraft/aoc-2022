{
 "cells": [
  {
   "cell_type": "markdown",
   "metadata": {},
   "source": [
    "# Day 5: Supply Stacks\n"
   ]
  },
  {
   "cell_type": "code",
   "execution_count": 340,
   "metadata": {},
   "outputs": [],
   "source": [
    "from pathlib import Path\n",
    "\n",
    "\n",
    "def read_input():\n",
    "    stacks = []\n",
    "    instructions = []\n",
    "\n",
    "    with open(Path(\"./input.txt\"), encoding='utf-8', mode='r') as f:\n",
    "        stacks, instructions = [chunk.splitlines()\n",
    "                                for chunk in f.read().split('\\n\\n')]\n",
    "\n",
    "    crates_in_stack = {}\n",
    "\n",
    "    for stack in stacks[-1].split():\n",
    "        stack_index = stacks[-1].index(stack)\n",
    "        crates_in_stack[stack] = \"\"\n",
    "\n",
    "        for row in stacks:\n",
    "            crates_in_stack[stack] += row[stack_index].strip()\n",
    "\n",
    "        crates_in_stack[stack] = list(crates_in_stack[stack][:-1])\n",
    "\n",
    "    return instructions, crates_in_stack\n"
   ]
  },
  {
   "cell_type": "markdown",
   "metadata": {},
   "source": [
    "## Part 1\n",
    "\n",
    "The expedition can depart as soon as the final supplies have been unloaded from the ships. Supplies are stored in stacks of marked crates, but because the needed supplies are buried under many other crates, the crates need to be rearranged.\n",
    "\n",
    "The ship has a giant cargo crane capable of moving crates between stacks. To ensure none of the crates get crushed or fall over, the crane operator will rearrange them in a series of carefully-planned steps. After the crates are rearranged, the desired crates will be at the top of each stack.\n",
    "\n",
    "The Elves don't want to interrupt the crane operator during this delicate procedure, but they forgot to ask her which crate will end up where, and they want to be ready to unload them as soon as possible so they can embark.\n",
    "\n",
    "They do, however, have a drawing of the starting stacks of crates and the rearrangement procedure (your puzzle input). For example:\n",
    "\n",
    "```\n",
    "    [D]\n",
    "[N] [C]\n",
    "[Z] [M] [P]\n",
    " 1   2   3\n",
    "\n",
    "move 1 from 2 to 1\n",
    "move 3 from 1 to 3\n",
    "move 2 from 2 to 1\n",
    "move 1 from 1 to 2\n",
    "```\n",
    "\n",
    "In this example, there are three stacks of crates. Stack 1 contains two crates: crate Z is on the bottom, and crate N is on top. Stack 2 contains three crates; from bottom to top, they are crates M, C, and D. Finally, stack 3 contains a single crate, P.\n",
    "\n",
    "Then, the rearrangement procedure is given. In each step of the procedure, a quantity of crates is moved from one stack to a different stack. In the first step of the above rearrangement procedure, one crate is moved from stack 2 to stack 1, resulting in this configuration:\n",
    "\n",
    "```\n",
    "[D]\n",
    "[N] [C]\n",
    "[Z] [M] [P]\n",
    " 1   2   3\n",
    "```\n",
    "\n",
    "In the second step, three crates are moved from stack 1 to stack 3. Crates are moved one at a time, so the first crate to be moved (D) ends up below the second and third crates:\n",
    "\n",
    "```\n",
    "        [Z]\n",
    "        [N]\n",
    "    [C] [D]\n",
    "    [M] [P]\n",
    " 1   2   3\n",
    "```\n",
    "\n",
    "Then, both crates are moved from stack 2 to stack 1. Again, because crates are moved one at a time, crate C ends up below crate M:\n",
    "\n",
    "```\n",
    "        [Z]\n",
    "        [N]\n",
    "[M]     [D]\n",
    "[C]     [P]\n",
    " 1   2   3\n",
    "```\n",
    "\n",
    "Finally, one crate is moved from stack 1 to stack 2:\n",
    "\n",
    "```\n",
    "        [Z]\n",
    "        [N]\n",
    "        [D]\n",
    "[C] [M] [P]\n",
    " 1   2   3\n",
    "```\n",
    "\n",
    "The Elves just need to know which crate will end up on top of each stack; in this example, the top crates are C in stack 1, M in stack 2, and Z in stack 3, so you should combine these together and give the Elves the message CMZ.\n",
    "\n",
    "After the rearrangement procedure completes, what crate ends up on top of each stack?\n"
   ]
  },
  {
   "cell_type": "code",
   "execution_count": 341,
   "metadata": {},
   "outputs": [
    {
     "name": "stdout",
     "output_type": "stream",
     "text": [
      "WCZTHTMPS\n"
     ]
    }
   ],
   "source": [
    "def part_1(instructions: list[str], crates_in_stack: dict[str, list[str]]):\n",
    "    crates_in_stack = crates_in_stack.copy()\n",
    "\n",
    "    for instruction in instructions:\n",
    "        instruction = instruction.split()\n",
    "        source, dest, count = [instruction[3], instruction[5], int(instruction[1])]\n",
    "\n",
    "        for crate in list(crates_in_stack[source][:count]):\n",
    "            crates_in_stack[dest].insert(0, crate)\n",
    "\n",
    "        crates_in_stack[source] = crates_in_stack[source][count:]\n",
    "\n",
    "    print(\"\".join([stack[0] for stack in crates_in_stack.values()]))\n",
    "\n",
    "\n",
    "part_1(*read_input())\n"
   ]
  },
  {
   "cell_type": "markdown",
   "metadata": {},
   "source": [
    "## Part 2\n",
    "\n",
    "As you watch the crane operator expertly rearrange the crates, you notice the process isn't following your prediction.\n",
    "\n",
    "Some mud was covering the writing on the side of the crane, and you quickly wipe it away. The crane isn't a CrateMover 9000 - it's a CrateMover 9001.\n",
    "\n",
    "The CrateMover 9001 is notable for many new and exciting features: air conditioning, leather seats, an extra cup holder, and the ability to pick up and move multiple crates at once.\n",
    "\n",
    "Again considering the example above, the crates begin in the same configuration:\n",
    "\n",
    "```\n",
    "    [D]\n",
    "[N] [C]\n",
    "[Z] [M] [P]\n",
    " 1   2   3\n",
    "```\n",
    "\n",
    "Moving a single crate from stack 2 to stack 1 behaves the same as before:\n",
    "\n",
    "```\n",
    "[D]\n",
    "[N] [C]\n",
    "[Z] [M] [P]\n",
    " 1   2   3\n",
    "```\n",
    "\n",
    "However, the action of moving three crates from stack 1 to stack 3 means that those three moved crates stay in the same order, resulting in this new configuration:\n",
    "\n",
    "```\n",
    "        [D]\n",
    "        [N]\n",
    "    [C] [Z]\n",
    "    [M] [P]\n",
    " 1   2   3\n",
    "```\n",
    "\n",
    "Next, as both crates are moved from stack 2 to stack 1, they retain their order as well:\n",
    "\n",
    "```\n",
    "        [D]\n",
    "        [N]\n",
    "[C]     [Z]\n",
    "[M]     [P]\n",
    " 1   2   3\n",
    "```\n",
    "\n",
    "Finally, a single crate is still moved from stack 1 to stack 2, but now it's crate C that gets moved:\n",
    "\n",
    "```\n",
    "        [D]\n",
    "        [N]\n",
    "        [Z]\n",
    "[M] [C] [P]\n",
    " 1   2   3\n",
    "```\n",
    "\n",
    "In this example, the CrateMover 9001 has put the crates in a totally different order: MCD.\n",
    "\n",
    "Before the rearrangement process finishes, update your simulation so that the Elves know where they should stand to be ready to unload the final supplies. After the rearrangement procedure completes, what crate ends up on top of each stack?\n"
   ]
  },
  {
   "cell_type": "code",
   "execution_count": 342,
   "metadata": {},
   "outputs": [
    {
     "name": "stdout",
     "output_type": "stream",
     "text": [
      "BLSGJSDTS\n"
     ]
    }
   ],
   "source": [
    "def part_2(instructions: list[str], crates_in_stack: dict[str, list[str]]):\n",
    "    for instruction in instructions:\n",
    "        instruction = instruction.split()\n",
    "        source, dest, count = [instruction[3], instruction[5], int(instruction[1])]\n",
    "\n",
    "        crates_in_stack[dest] = list(crates_in_stack[source][:count]) + crates_in_stack[dest]\n",
    "        crates_in_stack[source] = crates_in_stack[source][count:]\n",
    "\n",
    "    print(\"\".join([stack[0] for stack in crates_in_stack.values()]))\n",
    "\n",
    "\n",
    "part_2(*read_input())\n"
   ]
  }
 ],
 "metadata": {
  "kernelspec": {
   "display_name": "Python 3.11.0 64-bit",
   "language": "python",
   "name": "python3"
  },
  "language_info": {
   "codemirror_mode": {
    "name": "ipython",
    "version": 3
   },
   "file_extension": ".py",
   "mimetype": "text/x-python",
   "name": "python",
   "nbconvert_exporter": "python",
   "pygments_lexer": "ipython3",
   "version": "3.11.0"
  },
  "orig_nbformat": 4,
  "vscode": {
   "interpreter": {
    "hash": "e7370f93d1d0cde622a1f8e1c04877d8463912d04d973331ad4851f04de6915a"
   }
  }
 },
 "nbformat": 4,
 "nbformat_minor": 2
}
