{
 "cells": [
  {
   "cell_type": "code",
   "execution_count": 4,
   "metadata": {},
   "outputs": [],
   "source": [
    "from pathlib import Path\n",
    "\n",
    "def read_input():\n",
    "    input = []\n",
    "\n",
    "    with open(Path(\"./input.txt\"), encoding='utf-8', mode='r') as f:\n",
    "        input = f.readlines()\n",
    "\n",
    "    return input\n",
    "\n",
    "lines = read_input()\n"
   ]
  },
  {
   "cell_type": "code",
   "execution_count": 5,
   "metadata": {},
   "outputs": [
    {
     "ename": "TypeError",
     "evalue": "'int' object is not subscriptable",
     "output_type": "error",
     "traceback": [
      "\u001b[0;31m---------------------------------------------------------------------------\u001b[0m",
      "\u001b[0;31mTypeError\u001b[0m                                 Traceback (most recent call last)",
      "Cell \u001b[0;32mIn [5], line 19\u001b[0m\n\u001b[1;32m     16\u001b[0m             current_dir \u001b[39m=\u001b[39m \u001b[39mlist\u001b[39m(current_dir\u001b[39m.\u001b[39mvalues())[\u001b[39m0\u001b[39m]\n\u001b[1;32m     17\u001b[0m         \u001b[39m# Otherwise, move to the specified subdirectory\u001b[39;00m\n\u001b[1;32m     18\u001b[0m         \u001b[39melse\u001b[39;00m:\n\u001b[0;32m---> 19\u001b[0m             current_dir \u001b[39m=\u001b[39m current_dir[parts[\u001b[39m2\u001b[39m]]\n\u001b[1;32m     20\u001b[0m \u001b[39m# If this line is a directory or a file, add it to the current directory\u001b[39;00m\n\u001b[1;32m     21\u001b[0m \u001b[39melse\u001b[39;00m:\n\u001b[1;32m     22\u001b[0m     parts \u001b[39m=\u001b[39m line\u001b[39m.\u001b[39msplit()\n",
      "\u001b[0;31mTypeError\u001b[0m: 'int' object is not subscriptable"
     ]
    }
   ],
   "source": [
    "# Create a representation of the file system\n",
    "file_system = {}\n",
    "current_dir = file_system\n",
    "\n",
    "for line in lines:\n",
    "    # If this line is a command, process it\n",
    "    if line.startswith(\"$\"):\n",
    "        parts = line.split()\n",
    "        command = parts[1]\n",
    "        if command == \"cd\":\n",
    "            # If the argument is \"/\", go to the root directory\n",
    "            if parts[2] == \"/\":\n",
    "                current_dir = file_system\n",
    "            # If the argument is \"..\", go to the parent directory\n",
    "            elif parts[2] == \"..\":\n",
    "                current_dir = list(current_dir.values())[0]\n",
    "            # Otherwise, move to the specified subdirectory\n",
    "            else:\n",
    "                current_dir = current_dir[parts[2]]\n",
    "    # If this line is a directory or a file, add it to the current directory\n",
    "    else:\n",
    "        parts = line.split()\n",
    "        if parts[0] == \"dir\":\n",
    "            current_dir[parts[1]] = {}\n",
    "        else:\n",
    "            current_dir[parts[1]] = int(parts[0])\n",
    "\n",
    "# Define a function to calculate the total size of a directory\n",
    "\n",
    "\n",
    "def total_size(directory):\n",
    "    # If the directory is empty, return 0\n",
    "    if not directory:\n",
    "        return 0\n",
    "\n",
    "    # If the directory contains files, return the sum of their sizes\n",
    "    if all(isinstance(v, int) for v in directory.values()):\n",
    "        return sum(directory.values())\n",
    "\n",
    "    # If the directory contains subdirectories, recursively calculate their total sizes and return the sum\n",
    "    else:\n",
    "        return sum(total_size(subdir) for subdir in directory.values())\n",
    "\n",
    "# Define a function to find all the directories with a total size of at most 100000\n",
    "\n",
    "\n",
    "def find_dirs(directory):\n",
    "    # If the directory is empty, return an empty list\n",
    "    if not directory:\n",
    "        return []\n",
    "\n",
    "    # If the directory contains files, return an empty list\n",
    "    if all(isinstance(v, int) for v in directory.values()):\n",
    "        return []\n",
    "\n",
    "    # If the directory contains subdirectories, calculate the total size of each subdirectory and add it to the list if its size is at most 100000\n",
    "    else:\n",
    "        dirs = []\n",
    "        for name, subdir in directory.items():\n",
    "            size = total_size(subdir)\n",
    "            if size <= 100000:\n",
    "                dirs.append((name, size))\n",
    "        return dirs\n",
    "\n",
    "# Find all the directories with a total size\n",
    "root_dirs = find_dirs(file_system)\n",
    "print(root_dirs)"
   ]
  }
 ],
 "metadata": {
  "kernelspec": {
   "display_name": "Python 3.11.0 64-bit",
   "language": "python",
   "name": "python3"
  },
  "language_info": {
   "codemirror_mode": {
    "name": "ipython",
    "version": 3
   },
   "file_extension": ".py",
   "mimetype": "text/x-python",
   "name": "python",
   "nbconvert_exporter": "python",
   "pygments_lexer": "ipython3",
   "version": "3.11.0"
  },
  "orig_nbformat": 4,
  "vscode": {
   "interpreter": {
    "hash": "e7370f93d1d0cde622a1f8e1c04877d8463912d04d973331ad4851f04de6915a"
   }
  }
 },
 "nbformat": 4,
 "nbformat_minor": 2
}
